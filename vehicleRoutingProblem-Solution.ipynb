{
 "cells": [
  {
   "cell_type": "code",
   "execution_count": 1,
   "metadata": {},
   "outputs": [
    {
     "name": "stdout",
     "output_type": "stream",
     "text": [
      "Defaulting to user installation because normal site-packages is not writeable\n",
      "Requirement already satisfied: matplotlib in /usr/lib/python3/dist-packages (3.6.3)\n",
      "Requirement already satisfied: deap in /home/sparsh/.local/lib/python3.11/site-packages (1.4.1)\n",
      "Requirement already satisfied: numpy in /usr/lib/python3/dist-packages (from deap) (1.26.4)\n",
      "Note: you may need to restart the kernel to use updated packages.\n"
     ]
    }
   ],
   "source": [
    "%pip install matplotlib deap "
   ]
  },
  {
   "cell_type": "code",
   "execution_count": 2,
   "metadata": {},
   "outputs": [],
   "source": [
    "#Required Libraries\n",
    "import random\n",
    "import matplotlib.pyplot as plt #type: ignore\n",
    "from deap import base, creator, tools, algorithms #type: ignore"
   ]
  },
  {
   "cell_type": "code",
   "execution_count": 5,
   "metadata": {},
   "outputs": [
    {
     "name": "stdout",
     "output_type": "stream",
     "text": [
      "20\n",
      "[(7.2, 84.9), (96.9, 71.3), (74.3, 62.8), (56.6, 48.1), (69.9, 57.3), (64.7, 15.4), (49.9, 67.9), (87.0, 48.2), (92.2, 27.6), (47.0, 17.7), (84.8, 59.8), (35.2, 7.3), (59.2, 27.3), (22.7, 88.9), (89.3, 3.4), (87.5, 36.8), (81.5, 8.4), (71.3, 99.0), (62.8, 80.8), (91.8, 20.0)]\n"
     ]
    }
   ],
   "source": [
    "num_location=20\n",
    "\n",
    "locations=locations = [(round(random.uniform(-100, 100),1), round(random.uniform(-100, 100),1)) for _ in range(num_location)]\n",
    "\n",
    "depot=(0,0)\n",
    "\n",
    "num_vehicles=4\n",
    "\n",
    "print(num_location)\n",
    "print(locations)"
   ]
  }
 ],
 "metadata": {
  "kernelspec": {
   "display_name": "Python 3",
   "language": "python",
   "name": "python3"
  },
  "language_info": {
   "codemirror_mode": {
    "name": "ipython",
    "version": 3
   },
   "file_extension": ".py",
   "mimetype": "text/x-python",
   "name": "python",
   "nbconvert_exporter": "python",
   "pygments_lexer": "ipython3",
   "version": "3.11.9"
  }
 },
 "nbformat": 4,
 "nbformat_minor": 2
}
